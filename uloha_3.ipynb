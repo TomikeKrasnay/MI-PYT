{
 "cells": [
  {
   "cell_type": "markdown",
   "metadata": {},
   "source": [
    "# Uloha: Pandas\n",
    "## Tomáš Krasnay"
   ]
  },
  {
   "cell_type": "markdown",
   "metadata": {},
   "source": [
    "Imports"
   ]
  },
  {
   "cell_type": "code",
   "execution_count": 94,
   "metadata": {},
   "outputs": [],
   "source": [
    "import pandas\n",
    "import matplotlib\n",
    "\n",
    "%matplotlib inline"
   ]
  },
  {
   "cell_type": "markdown",
   "metadata": {},
   "source": [
    "Read Data:"
   ]
  },
  {
   "cell_type": "code",
   "execution_count": 95,
   "metadata": {},
   "outputs": [],
   "source": [
    "data = pandas.read_csv('data/survey_results_public.csv', index_col=None)"
   ]
  },
  {
   "cell_type": "markdown",
   "metadata": {},
   "source": [
    "## Otázky a odpovede:"
   ]
  },
  {
   "cell_type": "markdown",
   "metadata": {},
   "source": [
    "**1. Kolik lidí celkem vyplnilo dotazník?**"
   ]
  },
  {
   "cell_type": "code",
   "execution_count": 96,
   "metadata": {},
   "outputs": [
    {
     "name": "stdout",
     "output_type": "stream",
     "text": [
      "Dotazník vyplnilo 51392 ľudí.\n"
     ]
    }
   ],
   "source": [
    "count_respondents = data['Respondent'].count()\n",
    "print(\"Dotazník vyplnilo {} ľudí.\".format(count_respondents))"
   ]
  },
  {
   "cell_type": "markdown",
   "metadata": {},
   "source": [
    "**2. Kolik z nich bylo z ČR/SR?**"
   ]
  },
  {
   "cell_type": "code",
   "execution_count": 97,
   "metadata": {},
   "outputs": [
    {
     "name": "stdout",
     "output_type": "stream",
     "text": [
      "Z celkového počtu bolo 581 Čechov a Slovákov\n"
     ]
    }
   ],
   "source": [
    "respon_cz_sk = len(data[(data['Country'] == 'Czech Republic')]) + len(data[(data['Country'] == 'Slovak Republic')])\n",
    "print(\"Z celkového počtu bolo {} Čechov a Slovákov\".format(respon_cz_sk))"
   ]
  },
  {
   "cell_type": "markdown",
   "metadata": {},
   "source": [
    "**3. Jaká je, podle dotazníku, průměrná mzda programátorů v ČR/SR? Ve světě?**"
   ]
  },
  {
   "cell_type": "markdown",
   "metadata": {},
   "source": [
    "Vybral som 3 najčastejšie meny a tie som vypísal \n",
    "\n",
    "* Canadian dollars (C$)\n",
    "\n",
    "* Euros (€)\n",
    "\n",
    "* U.S. dollars ($)"
   ]
  },
  {
   "cell_type": "code",
   "execution_count": 98,
   "metadata": {},
   "outputs": [
    {
     "name": "stdout",
     "output_type": "stream",
     "text": [
      "Priemerná mzda Slováka/Čecha ktorý zarába v Eurách(€) je 19728.36\n",
      "Priemerná mzda Slováka/Čecha ktorý zarába v Amerických dolároch($) je 793.0\n",
      "Priemerná mzda Slováka/Čecha ktorý zarába v Kanadských dolároch(C$) je 28191.07\n"
     ]
    }
   ],
   "source": [
    "data_currencies = results[['Professional', 'Country', 'Currency', 'Salary']]\n",
    "currencies_cz_sk = data_currencies[((data_currencies['Country'] == 'Czech Republic') | (data_currencies['Country'] == 'Slovak Republic')) & (data_currencies['Professional'] == 'Professional developer')]\n",
    "euros_cz_sk = currencies_cz_sk[currencies_cz_sk['Currency'].str.contains('Euros', na=False)]\n",
    "us_dol_cz_sk = currencies_cz_sk[currencies_cz_sk['Currency'].str.contains('U.S. dollars', na=False)]\n",
    "can_do_cz_sk = currencies_cz_sk[currencies_cz_sk['Currency'].str.contains('Canadian dollars', na=False)]\n",
    "print(\"Priemerná mzda Slováka/Čecha ktorý zarába v Eurách(€) je {}\".format(euros_cz_sk['Salary'].mean().round(2)))\n",
    "print(\"Priemerná mzda Slováka/Čecha ktorý zarába v Amerických dolároch($) je {}\".format(us_dol_cz_sk['Salary'].mean().round(2)))\n",
    "print(\"Priemerná mzda Slováka/Čecha ktorý zarába v Kanadských dolároch(C$) je {}\".format(can_do_cz_sk['Salary'].mean().round(2)))"
   ]
  },
  {
   "cell_type": "markdown",
   "metadata": {},
   "source": [
    "**4. Jaká je, podle dotazníku, průměrná mzda programátorů ve světě?**"
   ]
  },
  {
   "cell_type": "code",
   "execution_count": 99,
   "metadata": {},
   "outputs": [
    {
     "data": {
      "text/html": [
       "<div>\n",
       "<style>\n",
       "    .dataframe thead tr:only-child th {\n",
       "        text-align: right;\n",
       "    }\n",
       "\n",
       "    .dataframe thead th {\n",
       "        text-align: left;\n",
       "    }\n",
       "\n",
       "    .dataframe tbody tr th {\n",
       "        vertical-align: top;\n",
       "    }\n",
       "</style>\n",
       "<table border=\"1\" class=\"dataframe\">\n",
       "  <thead>\n",
       "    <tr style=\"text-align: right;\">\n",
       "      <th></th>\n",
       "      <th>Currency</th>\n",
       "    </tr>\n",
       "  </thead>\n",
       "  <tbody>\n",
       "    <tr>\n",
       "      <th>U.S. dollars ($)</th>\n",
       "      <td>7073</td>\n",
       "    </tr>\n",
       "    <tr>\n",
       "      <th>Euros (€)</th>\n",
       "      <td>5849</td>\n",
       "    </tr>\n",
       "    <tr>\n",
       "      <th>British pounds sterling (£)</th>\n",
       "      <td>2176</td>\n",
       "    </tr>\n",
       "    <tr>\n",
       "      <th>Indian rupees (?)</th>\n",
       "      <td>2176</td>\n",
       "    </tr>\n",
       "    <tr>\n",
       "      <th>Canadian dollars (C$)</th>\n",
       "      <td>1062</td>\n",
       "    </tr>\n",
       "    <tr>\n",
       "      <th>Polish zloty (zl)</th>\n",
       "      <td>564</td>\n",
       "    </tr>\n",
       "    <tr>\n",
       "      <th>Australian dollars (A$)</th>\n",
       "      <td>469</td>\n",
       "    </tr>\n",
       "    <tr>\n",
       "      <th>Russian rubles (?)</th>\n",
       "      <td>366</td>\n",
       "    </tr>\n",
       "    <tr>\n",
       "      <th>Brazilian reais (R$)</th>\n",
       "      <td>359</td>\n",
       "    </tr>\n",
       "    <tr>\n",
       "      <th>Swedish kroner (SEK)</th>\n",
       "      <td>306</td>\n",
       "    </tr>\n",
       "    <tr>\n",
       "      <th>Swiss francs</th>\n",
       "      <td>300</td>\n",
       "    </tr>\n",
       "    <tr>\n",
       "      <th>South African rands (R)</th>\n",
       "      <td>174</td>\n",
       "    </tr>\n",
       "    <tr>\n",
       "      <th>Mexican pesos (MXN$)</th>\n",
       "      <td>144</td>\n",
       "    </tr>\n",
       "    <tr>\n",
       "      <th>Japanese yen (¥)</th>\n",
       "      <td>123</td>\n",
       "    </tr>\n",
       "    <tr>\n",
       "      <th>Chinese yuan renminbi (¥)</th>\n",
       "      <td>121</td>\n",
       "    </tr>\n",
       "    <tr>\n",
       "      <th>Singapore dollars (S$)</th>\n",
       "      <td>79</td>\n",
       "    </tr>\n",
       "    <tr>\n",
       "      <th>Bitcoin (btc)</th>\n",
       "      <td>67</td>\n",
       "    </tr>\n",
       "  </tbody>\n",
       "</table>\n",
       "</div>"
      ],
      "text/plain": [
       "                             Currency\n",
       "U.S. dollars ($)                 7073\n",
       "Euros (€)                        5849\n",
       "British pounds sterling (£)      2176\n",
       "Indian rupees (?)                2176\n",
       "Canadian dollars (C$)            1062\n",
       "Polish zloty (zl)                 564\n",
       "Australian dollars (A$)           469\n",
       "Russian rubles (?)                366\n",
       "Brazilian reais (R$)              359\n",
       "Swedish kroner (SEK)              306\n",
       "Swiss francs                      300\n",
       "South African rands (R)           174\n",
       "Mexican pesos (MXN$)              144\n",
       "Japanese yen (¥)                  123\n",
       "Chinese yuan renminbi (¥)         121\n",
       "Singapore dollars (S$)             79\n",
       "Bitcoin (btc)                      67"
      ]
     },
     "execution_count": 99,
     "metadata": {},
     "output_type": "execute_result"
    }
   ],
   "source": [
    "pandas.DataFrame(currencies['Currency'].value_counts())"
   ]
  },
  {
   "cell_type": "code",
   "execution_count": 100,
   "metadata": {},
   "outputs": [
    {
     "name": "stdout",
     "output_type": "stream",
     "text": [
      "Priemerná mzda programátora v ($) je 88437.37\n",
      "Priemerná mzda programátora v (€) je 41643.99\n",
      "Priemerná mzda programátora v (£) je 52509.29\n",
      "Priemerná mzda programátora v Indickej Rupii je 10121.03\n"
     ]
    }
   ],
   "source": [
    "world_usdollars = currencies[currencies['Currency'].str.contains('U.S. dollars', na=False)]\n",
    "world_euros = currencies[currencies['Currency'].str.contains('Euros', na=False)]\n",
    "world_sterling = currencies[currencies['Currency'].str.contains('British pounds sterling', na=False)]\n",
    "world_rupees = currencies[currencies['Currency'].str.contains('Indian rupees', na=False)]\n",
    "print(\"Priemerná mzda programátora v ($) je {}\".format(world_usdollars['Salary'].mean().round(2)))\n",
    "print(\"Priemerná mzda programátora v (€) je {}\".format(world_euros['Salary'].mean().round(2)))\n",
    "print(\"Priemerná mzda programátora v (£) je {}\".format(world_sterling['Salary'].mean().round(2)))\n",
    "print(\"Priemerná mzda programátora v Indickej Rupii je {}\".format(world_rupees['Salary'].mean().round(2)))"
   ]
  },
  {
   "cell_type": "markdown",
   "metadata": {},
   "source": [
    "**5.**\n",
    "\n",
    "**a) Kolik lidí z ČR/SR uvedlo, že používá Python/Java?**\n",
    "\n",
    "**b) Kolik z nich chce v používání Pythonu pokračovat?**\n",
    "    \n",
    "**c) Kolik lidí Python nepoužívá , ale chce ho začít používat ?**\n",
    "\n",
    "    * Používání jazyka znamená, že v něm daný člověk poslední rok intenzivně pracoval.\n"
   ]
  },
  {
   "cell_type": "code",
   "execution_count": 101,
   "metadata": {},
   "outputs": [],
   "source": [
    "def answer_4_question(lang):\n",
    "    all_respons = data[['HaveWorkedLanguage', 'WantWorkLanguage', 'Country']]\n",
    "    repons_cz_sk = all_respons[(all_respons['Country'] == 'Czech Republic') | (all_respons['Country'] == 'Slovak Republic')]\n",
    "    respons_with_lang = repons_cz_sk[repons_cz_sk[\"HaveWorkedLanguage\"].str.contains(lang, na=False)]\n",
    "    print('a) {} lidí z ČR/SR uvedlo, že používá {}.'.format(len(respons_with_lang), lang))\n",
    "    print('b) {} z nich chce v používání {} pokračovat.'.format(len(respons_with_lang[respons_with_lang['WantWorkLanguage'].str.contains(lang, na=False)]), lang))\n",
    "    \n",
    "    want_work_lang = all_respons[all_respons['WantWorkLanguage'].str.contains(lang, na=False)]\n",
    "    havent_worked_lang = want_work_lang[want_work_lang['HaveWorkedLanguage'].str.contains(lang, na=False) == False]\n",
    "    print('c) {} lidí {} nepoužívá , ale chce ho začít používat.'.format(len(havent_worked_lang), lang, lang))\n",
    "    "
   ]
  },
  {
   "cell_type": "markdown",
   "metadata": {},
   "source": [
    "**Python:**"
   ]
  },
  {
   "cell_type": "code",
   "execution_count": 102,
   "metadata": {},
   "outputs": [
    {
     "name": "stdout",
     "output_type": "stream",
     "text": [
      "a) 129 lidí z ČR/SR uvedlo, že používá Python.\n",
      "b) 86 z nich chce v používání Python pokračovat.\n",
      "c) 5230 lidí Python nepoužívá , ale chce ho začít používat.\n"
     ]
    }
   ],
   "source": [
    "answer_4_question('Python')"
   ]
  },
  {
   "cell_type": "markdown",
   "metadata": {},
   "source": [
    "**Java:**"
   ]
  },
  {
   "cell_type": "code",
   "execution_count": 103,
   "metadata": {},
   "outputs": [
    {
     "name": "stdout",
     "output_type": "stream",
     "text": [
      "a) 299 lidí z ČR/SR uvedlo, že používá Java.\n",
      "b) 203 z nich chce v používání Java pokračovat.\n",
      "c) 2310 lidí Java nepoužívá , ale chce ho začít používat.\n"
     ]
    }
   ],
   "source": [
    "answer_4_question('Java')"
   ]
  }
 ],
 "metadata": {
  "kernelspec": {
   "display_name": "Python 3",
   "language": "python",
   "name": "python3"
  },
  "language_info": {
   "codemirror_mode": {
    "name": "ipython",
    "version": 3
   },
   "file_extension": ".py",
   "mimetype": "text/x-python",
   "name": "python",
   "nbconvert_exporter": "python",
   "pygments_lexer": "ipython3",
   "version": "3.6.3"
  }
 },
 "nbformat": 4,
 "nbformat_minor": 2
}
